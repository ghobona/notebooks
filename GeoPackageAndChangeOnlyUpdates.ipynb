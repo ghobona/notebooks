{
  "nbformat": 4,
  "nbformat_minor": 0,
  "metadata": {
    "colab": {
      "name": "GeoPackageAndChangeOnlyUpdates.ipynb",
      "provenance": []
    },
    "kernelspec": {
      "name": "python3",
      "display_name": "Python 3"
    }
  },
  "cells": [
    {
      "cell_type": "code",
      "metadata": {
        "id": "9lzP7v8uAWdh"
      },
      "source": [
        "!ls"
      ],
      "execution_count": null,
      "outputs": []
    },
    {
      "cell_type": "markdown",
      "metadata": {
        "id": "6ObyRtP194kb"
      },
      "source": [
        "**Step 1**\n",
        "\n",
        "First let's prepare the environment by importing the sqlite3 library"
      ]
    },
    {
      "cell_type": "code",
      "metadata": {
        "id": "lH3zkazo9zmh"
      },
      "source": [
        "import sqlite3\n",
        "#https://www.geopackage.org/data/gdal_sample.gpkg"
      ],
      "execution_count": null,
      "outputs": []
    },
    {
      "cell_type": "markdown",
      "metadata": {
        "id": "64Hjfv2dr7hO"
      },
      "source": [
        "**Step 2**\n",
        "\n",
        "For a quick look at what contents (feature collections, tiled gridded coverages) are available in a geopackage, we can query the `gpkg_contents` table."
      ]
    },
    {
      "cell_type": "code",
      "metadata": {
        "id": "jEuytzX5riZC",
        "colab": {
          "base_uri": "https://localhost:8080/"
        },
        "outputId": "e7bb4b88-f0ad-4324-e7bd-1b0fb514dff8"
      },
      "source": [
        "conn = sqlite3.connect('file:/home/sampledata/small_os_oz.gpkg?mode=ro', uri=True)\n",
        "\n",
        "cur = conn.cursor()\n",
        "cur.execute(\"SELECT * FROM gpkg_contents\")\n",
        "rows = cur.fetchall()\n",
        "\n",
        "for row in rows:\n",
        "  print(row)\n",
        "conn.close()"
      ],
      "execution_count": null,
      "outputs": [
        {
          "output_type": "stream",
          "text": [
            "('surfacewater', 'features', 'surfacewater', '', '2020-05-28T20:17:42.520Z', 10000.3, 8507.95, 654751.0, 1220300.0, 27700)\n",
            "('greenspace', 'features', 'greenspace', '', '2020-05-28T20:17:46.173Z', 9819.84, 8274.57, 655231.0, 1214130.0, 27700)\n",
            "('national_parks', 'features', 'national_parks', '', '2020-05-28T20:17:46.184Z', 159455.0, 56060.0, 652620.0, 836668.0, 27700)\n",
            "('contours', 'features', 'contours', '', '2020-05-28T20:18:01.308Z', 5522.8, 5552.7, 655208.0, 1219800.0, 27700)\n",
            "('local_buildings', 'features', 'local_buildings', '', '2020-05-28T20:22:04.028Z', 9252.36, 7817.13, 655555.0, 1219700.0, 27700)\n",
            "('airports', 'features', 'airports', '', '2020-05-28T20:22:04.069Z', 69528.9, 10280.3, 621991.0, 1159770.0, 27700)\n",
            "('boundaries', 'features', 'boundaries', '', '2020-05-28T20:22:04.239Z', 315261.0, 185879.0, 398017.0, 657601.0, 27700)\n",
            "('district_buildings', 'features', 'district_buildings', '', '2020-05-28T20:23:21.172Z', 9263.92, 7966.65, 655532.0, 1219700.0, 27700)\n",
            "('land', 'features', 'land', '', '2020-05-28T20:23:24.243Z', 5517.79, 5184.9, 655643.0, 1220300.0, 27700)\n",
            "('urban_areas', 'features', 'urban_areas', '', '2020-05-28T20:23:25.478Z', 76654.0, 10147.8, 655672.0, 1168800.0, 27700)\n",
            "('etl', 'features', 'etl', '', '2020-05-28T20:23:25.699Z', 150289.0, 32681.1, 652612.0, 966720.0, 27700)\n",
            "('foreshore', 'features', 'foreshore', '', '2020-05-28T20:23:29.168Z', 5603.58, 5177.23, 655644.0, 1220310.0, 27700)\n",
            "('sites', 'features', 'sites', '', '2020-05-28T20:23:29.970Z', 65798.8, 9995.13, 654907.0, 1209100.0, 27700)\n",
            "('rail', 'features', 'rail', '', '2020-05-28T20:23:31.288Z', 147599.0, 29704.0, 654745.0, 1171850.0, 27700)\n",
            "('railway_stations', 'features', 'railway_stations', '', '2020-05-28T20:23:31.325Z', 147617.0, 29704.0, 654741.0, 967900.0, 27700)\n",
            "('roads_local', 'features', 'roads_local', '', '2020-05-28T20:24:28.056Z', 9123.0, 8045.93, 655563.0, 1216650.0, 27700)\n",
            "('roads_regional', 'features', 'roads_regional', '', '2020-05-28T20:24:33.439Z', 64890.0, 10189.0, 655180.0, 1214140.0, 27700)\n",
            "('roads_national', 'features', 'roads_national', '', '2020-05-28T20:24:35.170Z', 138513.0, 26418.2, 655159.0, 970418.0, 27700)\n",
            "('names', 'features', 'names', '', '2020-05-28T20:24:48.573Z', 5865.0, 5640.0, 655239.0, 1219690.0, 27700)\n",
            "('waterlines', 'features', 'waterlines', '', '2020-05-28T20:25:39.180Z', 5517.69, 5177.23, 655644.0, 1220310.0, 27700)\n",
            "('woodland', 'features', 'woodland', '', '2020-05-28T20:26:46.192Z', 65827.3, 8119.68, 655204.0, 1212380.0, 27700)\n"
          ],
          "name": "stdout"
        }
      ]
    }
  ]
}