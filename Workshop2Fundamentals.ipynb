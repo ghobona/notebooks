{
 "cells": [
  {
   "cell_type": "markdown",
   "id": "33cc918d-dd2b-408b-91ae-0a8f3887a6bb",
   "metadata": {},
   "source": [
    "HTTP methods examples"
   ]
  },
  {
   "cell_type": "code",
   "execution_count": null,
   "id": "0f782b66-1eea-41d9-b687-5a1c9dc9b9fd",
   "metadata": {},
   "outputs": [],
   "source": [
    "!curl \"https://demo.ldproxy.net/zoomstack\""
   ]
  },
  {
   "cell_type": "code",
   "execution_count": null,
   "id": "f08664c3-ed14-4d1e-add5-2a4c84d5a9b6",
   "metadata": {},
   "outputs": [],
   "source": [
    "!curl \"https://demo.ldproxy.net/zoomstack/collections/airports/items/1\" -i"
   ]
  },
  {
   "cell_type": "code",
   "execution_count": null,
   "id": "2f118de0-cb83-4938-aa4d-4df29f55088d",
   "metadata": {},
   "outputs": [],
   "source": [
    "!curl \"https://demo.ldproxy.net/zoomstack/collections/airports/items/1\" -I"
   ]
  },
  {
   "cell_type": "code",
   "execution_count": null,
   "id": "7f4de67b-6902-4dc0-9b66-bdda32bf4a97",
   "metadata": {},
   "outputs": [],
   "source": [
    "!curl   \"https://demo.ldproxy.net/zoomstack/collections/airports/items/1\" -X OPTIONS -i"
   ]
  },
  {
   "cell_type": "markdown",
   "id": "0db775bd-9404-4b63-9eeb-f7c986b8af31",
   "metadata": {},
   "source": [
    "HTTP Status codes examples"
   ]
  },
  {
   "cell_type": "code",
   "execution_count": null,
   "id": "0e6f1a43-4f89-4d58-b57f-4c6ad2598fa0",
   "metadata": {},
   "outputs": [],
   "source": [
    "!curl \"https://demo.ldproxy.net/zoomstack/collections/airports/items?foo=bar\" -i"
   ]
  },
  {
   "cell_type": "code",
   "execution_count": null,
   "id": "6497995e-798c-494f-b7bf-f3e316fad597",
   "metadata": {},
   "outputs": [],
   "source": [
    "!curl \"https://demo.ldproxy.net/zoomstack/collections/airports/items/0\" -i"
   ]
  },
  {
   "cell_type": "markdown",
   "id": "31ff7fea-d5ab-44f6-8806-4d5279ac034e",
   "metadata": {},
   "source": [
    "Content negotiation examples"
   ]
  },
  {
   "cell_type": "code",
   "execution_count": null,
   "id": "bb13536c-48ca-4574-8ffd-26f5d82c1468",
   "metadata": {},
   "outputs": [],
   "source": [
    "!curl \"https://demo.ldproxy.net/zoomstack/collections/airports/items/1\" -i -H \"Accept: application/geo+json\""
   ]
  },
  {
   "cell_type": "code",
   "execution_count": null,
   "id": "becbf0ef-d94a-4407-9cf6-e3315133d0ce",
   "metadata": {},
   "outputs": [],
   "source": [
    "!curl \"https://demo.ldproxy.net/zoomstack/collections/airports/items/1\" -i -H \"accept: application/gml+xml\""
   ]
  }
 ],
 "metadata": {
  "kernelspec": {
   "display_name": "Python 3 (ipykernel)",
   "language": "python",
   "name": "python3"
  },
  "language_info": {
   "codemirror_mode": {
    "name": "ipython",
    "version": 3
   },
   "file_extension": ".py",
   "mimetype": "text/x-python",
   "name": "python",
   "nbconvert_exporter": "python",
   "pygments_lexer": "ipython3",
   "version": "3.7.10"
  }
 },
 "nbformat": 4,
 "nbformat_minor": 5
}
