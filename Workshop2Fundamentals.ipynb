{
 "cells": [
  {
   "cell_type": "markdown",
   "id": "f35e65bf-81b4-4d05-b164-995053294033",
   "metadata": {},
   "source": [
    "## OGC API - Features"
   ]
  },
  {
   "cell_type": "markdown",
   "id": "33cc918d-dd2b-408b-91ae-0a8f3887a6bb",
   "metadata": {},
   "source": [
    "HTTP methods examples"
   ]
  },
  {
   "cell_type": "code",
   "execution_count": null,
   "id": "0f782b66-1eea-41d9-b687-5a1c9dc9b9fd",
   "metadata": {},
   "outputs": [],
   "source": [
    "!curl \"https://demo.ldproxy.net/zoomstack\""
   ]
  },
  {
   "cell_type": "code",
   "execution_count": null,
   "id": "f08664c3-ed14-4d1e-add5-2a4c84d5a9b6",
   "metadata": {},
   "outputs": [],
   "source": [
    "!curl \"https://demo.ldproxy.net/zoomstack/collections/airports/items/1\" -i"
   ]
  },
  {
   "cell_type": "code",
   "execution_count": null,
   "id": "2f118de0-cb83-4938-aa4d-4df29f55088d",
   "metadata": {},
   "outputs": [],
   "source": [
    "!curl \"https://demo.ldproxy.net/zoomstack/collections/airports/items/1\" -I"
   ]
  },
  {
   "cell_type": "code",
   "execution_count": null,
   "id": "7f4de67b-6902-4dc0-9b66-bdda32bf4a97",
   "metadata": {},
   "outputs": [],
   "source": [
    "!curl   \"https://demo.ldproxy.net/zoomstack/collections/airports/items/1\" -X OPTIONS -i"
   ]
  },
  {
   "cell_type": "markdown",
   "id": "0db775bd-9404-4b63-9eeb-f7c986b8af31",
   "metadata": {},
   "source": [
    "HTTP Status codes examples"
   ]
  },
  {
   "cell_type": "code",
   "execution_count": null,
   "id": "0e6f1a43-4f89-4d58-b57f-4c6ad2598fa0",
   "metadata": {},
   "outputs": [],
   "source": [
    "!curl \"https://demo.ldproxy.net/zoomstack/collections/airports/items?foo=bar\" -i"
   ]
  },
  {
   "cell_type": "code",
   "execution_count": null,
   "id": "6497995e-798c-494f-b7bf-f3e316fad597",
   "metadata": {},
   "outputs": [],
   "source": [
    "!curl \"https://demo.ldproxy.net/zoomstack/collections/airports/items/0\" -i"
   ]
  },
  {
   "cell_type": "markdown",
   "id": "31ff7fea-d5ab-44f6-8806-4d5279ac034e",
   "metadata": {},
   "source": [
    "Content negotiation examples"
   ]
  },
  {
   "cell_type": "code",
   "execution_count": null,
   "id": "bb13536c-48ca-4574-8ffd-26f5d82c1468",
   "metadata": {},
   "outputs": [],
   "source": [
    "!curl \"https://demo.ldproxy.net/zoomstack/collections/airports/items/1\" -i -H \"Accept: application/geo+json\""
   ]
  },
  {
   "cell_type": "code",
   "execution_count": null,
   "id": "becbf0ef-d94a-4407-9cf6-e3315133d0ce",
   "metadata": {},
   "outputs": [],
   "source": [
    "!curl \"https://demo.ldproxy.net/zoomstack/collections/airports/items/1\" -i -H \"accept: application/geopackage+sqlite3\""
   ]
  },
  {
   "cell_type": "markdown",
   "id": "57ca5bef-6a66-47e5-95f2-3411228006d5",
   "metadata": {},
   "source": [
    "## OGC API - Environmental Data Retrieval"
   ]
  },
  {
   "cell_type": "code",
   "execution_count": null,
   "id": "0398bf73-b29e-4f9d-9026-030c21744128",
   "metadata": {},
   "outputs": [],
   "source": [
    "Retrieve metadata about a collection"
   ]
  },
  {
   "cell_type": "code",
   "execution_count": null,
   "id": "3257b096-b2c9-4248-b6b6-e892676b8272",
   "metadata": {},
   "outputs": [],
   "source": [
    "!curl \"http://labs.metoffice.gov.uk/edr/collections/gfs-pressure_at_height\" -i"
   ]
  },
  {
   "cell_type": "markdown",
   "id": "3943f6ed-44e6-4ae9-b664-280be627f840",
   "metadata": {},
   "source": [
    "Run an Area Query"
   ]
  },
  {
   "cell_type": "code",
   "execution_count": null,
   "id": "231ecf10-0c68-49cc-8f0d-13e3d448ded9",
   "metadata": {},
   "outputs": [],
   "source": [
    "!curl \"http://labs.metoffice.gov.uk/edr/collections/gfs-pressure_at_height/area?coords=POLYGON((-0.898132%2051.179362,-0.909119%2051.815488,0.552063%2051.818884,0.560303%2051.191414,-0.898132%2051.179362))&parameter-name=Pressure_height_above_ground&datetime=2022-01-19T06:00Z/2022-01-19T12:00Z&z=80/80&crs=CRS84&f=CoverageJSON\" -i"
   ]
  },
  {
   "cell_type": "markdown",
   "id": "7a8b547c-ed2c-476d-9e0d-30e9644c644f",
   "metadata": {},
   "source": [
    "Run an Trajectory Query"
   ]
  }
 ],
 "metadata": {
  "kernelspec": {
   "display_name": "Python 3 (ipykernel)",
   "language": "python",
   "name": "python3"
  },
  "language_info": {
   "codemirror_mode": {
    "name": "ipython",
    "version": 3
   },
   "file_extension": ".py",
   "mimetype": "text/x-python",
   "name": "python",
   "nbconvert_exporter": "python",
   "pygments_lexer": "ipython3",
   "version": "3.7.12"
  }
 },
 "nbformat": 4,
 "nbformat_minor": 5
}
