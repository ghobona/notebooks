{
  "nbformat": 4,
  "nbformat_minor": 0,
  "metadata": {
    "colab": {
      "name": "GeoPackageDemo2.ipynb",
      "provenance": [],
      "collapsed_sections": [],
      "toc_visible": true
    },
    "kernelspec": {
      "name": "python3",
      "display_name": "Python 3"
    }
  },
  "cells": [
    {
      "cell_type": "markdown",
      "metadata": {
        "id": "F4OG7YYqyHW4"
      },
      "source": [
        "**Step 1**\n",
        "\n",
        "First let's set up the environment by installion GDAL"
      ]
    },
    {
      "cell_type": "code",
      "metadata": {
        "id": "9lzP7v8uAWdh",
        "colab": {
          "base_uri": "https://localhost:8080/"
        },
        "outputId": "00ceab86-680d-460c-b4d0-09e80b6f9139"
      },
      "source": [
        "!apt-get install libgdal-dev -y\n",
        "\n",
        "!apt-get install python-gdal -y"
      ],
      "execution_count": 26,
      "outputs": [
        {
          "output_type": "stream",
          "text": [
            "Reading package lists... Done\n",
            "Building dependency tree       \n",
            "Reading state information... Done\n",
            "libgdal-dev is already the newest version (2.2.3+dfsg-2).\n",
            "0 upgraded, 0 newly installed, 0 to remove and 29 not upgraded.\n",
            "Reading package lists... Done\n",
            "Building dependency tree       \n",
            "Reading state information... Done\n",
            "python-gdal is already the newest version (2.2.3+dfsg-2).\n",
            "0 upgraded, 0 newly installed, 0 to remove and 29 not upgraded.\n"
          ],
          "name": "stdout"
        }
      ]
    },
    {
      "cell_type": "markdown",
      "metadata": {
        "id": "6ObyRtP194kb"
      },
      "source": [
        "**Step 2**\n",
        "\n",
        "Next let's download a sample geopackage\n"
      ]
    },
    {
      "cell_type": "code",
      "metadata": {
        "colab": {
          "base_uri": "https://localhost:8080/"
        },
        "id": "V5X0bT7zC8k6",
        "outputId": "f83115bd-ca60-4d3d-a08c-0bd7293f3480"
      },
      "source": [
        "!curl https://www.geopackage.org/data/gdal_sample.gpkg -o gdal_sample.gpkg \n",
        "!pwd"
      ],
      "execution_count": 27,
      "outputs": [
        {
          "output_type": "stream",
          "text": [
            "  % Total    % Received % Xferd  Average Speed   Time    Time     Time  Current\n",
            "                                 Dload  Upload   Total   Spent    Left  Speed\n",
            "100  139k  100  139k    0     0   351k      0 --:--:-- --:--:-- --:--:--  351k\n",
            "/content\n"
          ],
          "name": "stdout"
        }
      ]
    },
    {
      "cell_type": "markdown",
      "metadata": {
        "id": "64Hjfv2dr7hO"
      },
      "source": [
        "**Step 3**\n",
        "\n",
        "Next we import the OGR library that is provided with GDAL "
      ]
    },
    {
      "cell_type": "code",
      "metadata": {
        "colab": {
          "base_uri": "https://localhost:8080/"
        },
        "id": "3hU4Vpjc_9Pc",
        "outputId": "cf06f8a9-8996-4ec4-df91-c2686a4b33cd"
      },
      "source": [
        "import os\n",
        "from osgeo import ogr\n",
        "print(\"Imported the ogr library\")"
      ],
      "execution_count": 28,
      "outputs": [
        {
          "output_type": "stream",
          "text": [
            "Imported the ogr library\n"
          ],
          "name": "stdout"
        }
      ]
    },
    {
      "cell_type": "markdown",
      "metadata": {
        "id": "48j_ewKrDlQT"
      },
      "source": [
        "**Step 4**\n",
        "\n",
        "Then we configure the application to use the GeoPackage (GPKG) driver that is provided by OGR."
      ]
    },
    {
      "cell_type": "code",
      "metadata": {
        "colab": {
          "base_uri": "https://localhost:8080/"
        },
        "id": "y9m2YiE6DtSN",
        "outputId": "808b1fda-162f-4ded-ef42-595deae5aac4"
      },
      "source": [
        "driver = ogr.GetDriverByName('GPKG')\n",
        "print(\"Now ready to use the GPKG driver\")"
      ],
      "execution_count": 29,
      "outputs": [
        {
          "output_type": "stream",
          "text": [
            "Now ready to use the GPKG driver\n"
          ],
          "name": "stdout"
        }
      ]
    },
    {
      "cell_type": "markdown",
      "metadata": {
        "id": "6qEtEkkZDzYU"
      },
      "source": [
        "**Step 5**\n",
        "\n",
        "Now we read the first feature from the first table from the geopackage"
      ]
    },
    {
      "cell_type": "code",
      "metadata": {
        "colab": {
          "base_uri": "https://localhost:8080/"
        },
        "id": "IPL5UFKuD8Eq",
        "outputId": "9a774eaf-6320-4ce0-99bd-9bc248e96105"
      },
      "source": [
        "geofile = r\"/home/jovyan/gdal_sample.gpkg\"\n",
        "\n",
        "ds = driver.Open(geofile, 0) # 0 means read-only. 1 means writeable.\n",
        "\n",
        "lyr1 = ds.GetLayer(0)\n",
        "f = lyr1.GetNextFeature()\n",
        "print(f.ExportToJson())"
      ],
      "execution_count": 30,
      "outputs": [
        {
          "output_type": "stream",
          "text": [
            "{\"type\": \"Feature\", \"geometry\": {\"type\": \"Point\", \"coordinates\": [1.0, 2.0]}, \"properties\": {\"intfield\": 1, \"strfield\": \"foo\", \"realfield\": 1.23456, \"datetimefield\": \"2014/06/07 14:20:00+00\", \"datefield\": \"2014/06/07\", \"binaryfield\": \"007FFF\"}, \"id\": 1}\n"
          ],
          "name": "stdout"
        }
      ]
    }
  ]
}
