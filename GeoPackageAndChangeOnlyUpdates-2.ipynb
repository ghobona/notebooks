{
  "nbformat": 4,
  "nbformat_minor": 0,
  "metadata": {
    "colab": {
      "name": "GeoPackageAndChangeOnlyUpdates.ipynb",
      "provenance": [],
      "toc_visible": true
    },
    "kernelspec": {
      "name": "python3",
      "display_name": "Python 3"
    }
  },
  "cells": [
    {
      "cell_type": "markdown",
      "metadata": {
        "id": "F4OG7YYqyHW4"
      },
      "source": [
        "**Step 1**\n",
        "\n",
        "Download the sample geopackage"
      ]
    },
    {
      "cell_type": "code",
      "metadata": {
        "id": "9lzP7v8uAWdh",
        "colab": {
          "base_uri": "https://localhost:8080/"
        },
        "outputId": "113d22f9-483c-47bb-eef7-63faf8bc09c4"
      },
      "source": [
        "!curl https://www.geopackage.org/data/gdal_sample.gpkg -o gdal_sample.gpkg \n",
        "!pwd"
      ],
      "execution_count": 2,
      "outputs": [
        {
          "output_type": "stream",
          "text": [
            "  % Total    % Received % Xferd  Average Speed   Time    Time     Time  Current\n",
            "                                 Dload  Upload   Total   Spent    Left  Speed\n",
            "\r  0     0    0     0    0     0      0      0 --:--:-- --:--:-- --:--:--     0\r100  139k  100  139k    0     0   751k      0 --:--:-- --:--:-- --:--:--  751k\n",
            "/content\n"
          ],
          "name": "stdout"
        }
      ]
    },
    {
      "cell_type": "markdown",
      "metadata": {
        "id": "6ObyRtP194kb"
      },
      "source": [
        "**Step 2**\n",
        "\n",
        "First let's prepare the environment by importing the sqlite3 library"
      ]
    },
    {
      "cell_type": "code",
      "metadata": {
        "id": "lH3zkazo9zmh"
      },
      "source": [
        "import sqlite3"
      ],
      "execution_count": 4,
      "outputs": []
    },
    {
      "cell_type": "markdown",
      "metadata": {
        "id": "64Hjfv2dr7hO"
      },
      "source": [
        "**Step 3**\n",
        "\n",
        "For a quick look at what contents (feature collections, tiled gridded coverages) are available in a geopackage, we can query the `gpkg_contents` table."
      ]
    },
    {
      "cell_type": "code",
      "metadata": {
        "id": "jEuytzX5riZC",
        "colab": {
          "base_uri": "https://localhost:8080/"
        },
        "outputId": "c8a01f67-bf55-42ab-e858-919d408ac804"
      },
      "source": [
        "conn = sqlite3.connect('file:/content/gdal_sample.gpkg?mode=ro', uri=True)\n",
        "\n",
        "cur = conn.cursor()\n",
        "cur.execute(\"SELECT * FROM gpkg_contents\")\n",
        "rows = cur.fetchall()\n",
        "\n",
        "for row in rows:\n",
        "  print(row)\n",
        "conn.close()"
      ],
      "execution_count": 5,
      "outputs": [
        {
          "output_type": "stream",
          "text": [
            "('point2d', 'features', 'point2d', '', '2014-08-27T15:36:41.000Z', 1.0, 2.0, 1.0, 2.0, 0)\n",
            "('linestring2d', 'features', 'linestring2d', '', '2014-08-27T15:36:42.000Z', 1.0, 2.0, 3.0, 4.0, 4326)\n",
            "('polygon2d', 'features', 'polygon2d', '', '2014-08-27T15:36:43.000Z', 0.0, 0.0, 10.0, 10.0, 32631)\n",
            "('multipoint2d', 'features', 'multipoint2d', '', '2014-08-27T15:36:43.000Z', 0.0, 1.0, 2.0, 3.0, 0)\n",
            "('multilinestring2d', 'features', 'multilinestring2d', '', '2014-08-27T15:36:43.000Z', 0.0, 1.0, 6.0, 7.0, 0)\n",
            "('multipolygon2d', 'features', 'multipolygon2d', '', '2014-08-27T15:36:44.000Z', -9.0, 0.0, 10.0, 10.0, 0)\n",
            "('geomcollection2d', 'features', 'geomcollection2d', '', '2014-08-27T15:36:44.000Z', -9.0, 0.0, 10.0, 10.0, 0)\n",
            "('geometry2d', 'features', 'geometry2d', '', '2014-08-27T15:36:45.000Z', -9.0, 0.0, 10.0, 10.0, 0)\n",
            "('point3d', 'features', 'point3d', '', '2014-08-27T15:36:46.000Z', 1.0, 2.0, 1.0, 2.0, 0)\n",
            "('linestring3d', 'features', 'linestring3d', '', '2014-08-27T15:36:46.000Z', 1.0, 2.0, 4.0, 5.0, 0)\n",
            "('polygon3d', 'features', 'polygon3d', '', '2014-08-27T15:36:46.000Z', 0.0, 0.0, 10.0, 10.0, 0)\n",
            "('multipoint3d', 'features', 'multipoint3d', '', '2014-08-27T15:36:47.000Z', 0.0, 1.0, 3.0, 4.0, 0)\n",
            "('multilinestring3d', 'features', 'multilinestring3d', '', '2014-08-27T15:36:47.000Z', 0.0, 1.0, 9.0, 10.0, 0)\n",
            "('multipolygon3d', 'features', 'multipolygon3d', '', '2014-08-27T15:36:47.000Z', -9.0, 0.0, 10.0, 10.0, 0)\n",
            "('geomcollection3d', 'features', 'geomcollection3d', '', '2014-08-27T15:36:48.000Z', -9.0, 0.0, 10.0, 10.0, 0)\n",
            "('geometry3d', 'features', 'geometry3d', '', '2014-08-27T15:36:48.000Z', -9.0, 0.0, 10.0, 10.0, 0)\n"
          ],
          "name": "stdout"
        }
      ]
    }
  ]
}