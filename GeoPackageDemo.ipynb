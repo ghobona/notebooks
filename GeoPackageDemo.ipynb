{
  "nbformat": 4,
  "nbformat_minor": 0,
  "metadata": {
    "colab": {
      "name": "GeoPackageDemo.ipynb",
      "provenance": [],
      "toc_visible": true
    },
    "kernelspec": {
      "name": "python3",
      "display_name": "Python 3"
    }
  },
  "cells": [
    {
      "cell_type": "markdown",
      "metadata": {
        "id": "F4OG7YYqyHW4"
      },
      "source": [
        "**Step 1**\n",
        "\n",
        "Download the sample geopackage"
      ]
    },
    {
      "cell_type": "code",
      "metadata": {
        "id": "9lzP7v8uAWdh"
      },
      "source": [
        "!curl https://www.geopackage.org/data/gdal_sample.gpkg -o gdal_sample.gpkg \n"
      ],
      "execution_count": null,
      "outputs": []
    },
    {
      "cell_type": "markdown",
      "metadata": {
        "id": "6ObyRtP194kb"
      },
      "source": [
        "**Step 2**\n",
        "\n",
        "First let's prepare the environment by importing the sqlite3 library"
      ]
    },
    {
      "cell_type": "code",
      "metadata": {
        "id": "lH3zkazo9zmh"
      },
      "source": [
        "import sqlite3\n",
        "connection_path = 'file:./gdal_sample.gpkg?mode=ro'"
      ],
      "execution_count": null,
      "outputs": []
    },
    {
      "cell_type": "markdown",
      "metadata": {
        "id": "64Hjfv2dr7hO"
      },
      "source": [
        "**Step 3**\n",
        "\n",
        "For a quick look at what contents (feature collections, tiled gridded coverages) are available in a geopackage, we can query the `gpkg_contents` table."
      ]
    },
    {
      "cell_type": "code",
      "metadata": {
        "id": "jEuytzX5riZC",
        "colab": {
          "base_uri": "https://localhost:8080/"
        },
        "outputId": "215eb0d1-e45b-469a-a5c7-c910d7ed6087"
      },
      "source": [
        "conn = sqlite3.connect(connection_path, uri=True)\n",
        "\n",
        "cur = conn.cursor()\n",
        "cur.execute(\"SELECT * FROM gpkg_contents\")\n",
        "rows = cur.fetchall()\n",
        "\n",
        "for row in rows:\n",
        "  print(row)\n",
        "conn.close()"
      ],
      "execution_count": null,
      "outputs": [
        {
          "output_type": "stream",
          "text": [
            "('point2d', 'features', 'point2d', '', '2014-08-27T15:36:41.000Z', 1.0, 2.0, 1.0, 2.0, 0)\n",
            "('linestring2d', 'features', 'linestring2d', '', '2014-08-27T15:36:42.000Z', 1.0, 2.0, 3.0, 4.0, 4326)\n",
            "('polygon2d', 'features', 'polygon2d', '', '2014-08-27T15:36:43.000Z', 0.0, 0.0, 10.0, 10.0, 32631)\n",
            "('multipoint2d', 'features', 'multipoint2d', '', '2014-08-27T15:36:43.000Z', 0.0, 1.0, 2.0, 3.0, 0)\n",
            "('multilinestring2d', 'features', 'multilinestring2d', '', '2014-08-27T15:36:43.000Z', 0.0, 1.0, 6.0, 7.0, 0)\n",
            "('multipolygon2d', 'features', 'multipolygon2d', '', '2014-08-27T15:36:44.000Z', -9.0, 0.0, 10.0, 10.0, 0)\n",
            "('geomcollection2d', 'features', 'geomcollection2d', '', '2014-08-27T15:36:44.000Z', -9.0, 0.0, 10.0, 10.0, 0)\n",
            "('geometry2d', 'features', 'geometry2d', '', '2014-08-27T15:36:45.000Z', -9.0, 0.0, 10.0, 10.0, 0)\n",
            "('point3d', 'features', 'point3d', '', '2014-08-27T15:36:46.000Z', 1.0, 2.0, 1.0, 2.0, 0)\n",
            "('linestring3d', 'features', 'linestring3d', '', '2014-08-27T15:36:46.000Z', 1.0, 2.0, 4.0, 5.0, 0)\n",
            "('polygon3d', 'features', 'polygon3d', '', '2014-08-27T15:36:46.000Z', 0.0, 0.0, 10.0, 10.0, 0)\n",
            "('multipoint3d', 'features', 'multipoint3d', '', '2014-08-27T15:36:47.000Z', 0.0, 1.0, 3.0, 4.0, 0)\n",
            "('multilinestring3d', 'features', 'multilinestring3d', '', '2014-08-27T15:36:47.000Z', 0.0, 1.0, 9.0, 10.0, 0)\n",
            "('multipolygon3d', 'features', 'multipolygon3d', '', '2014-08-27T15:36:47.000Z', -9.0, 0.0, 10.0, 10.0, 0)\n",
            "('geomcollection3d', 'features', 'geomcollection3d', '', '2014-08-27T15:36:48.000Z', -9.0, 0.0, 10.0, 10.0, 0)\n",
            "('geometry3d', 'features', 'geometry3d', '', '2014-08-27T15:36:48.000Z', -9.0, 0.0, 10.0, 10.0, 0)\n"
          ],
          "name": "stdout"
        }
      ]
    },
    {
      "cell_type": "markdown",
      "metadata": {
        "id": "lb-oukBY3D0K"
      },
      "source": [
        "**Step 4**\n",
        "\n",
        "Looking at coordinate reference systems. Note that additional coordinate reference systems can be added."
      ]
    },
    {
      "cell_type": "code",
      "metadata": {
        "colab": {
          "base_uri": "https://localhost:8080/"
        },
        "id": "gr4ke25L3DXA",
        "outputId": "9d4598f4-e649-474f-ea59-35df8ecd222f"
      },
      "source": [
        "conn = sqlite3.connect(connection_path, uri=True)\n",
        "cur = conn.cursor()\n",
        "cur.execute(\"SELECT * FROM gpkg_spatial_ref_sys\")\n",
        "rows = cur.fetchall()\n",
        "\n",
        "for row in rows:\n",
        "  print(row)\n",
        "conn.close()"
      ],
      "execution_count": null,
      "outputs": [
        {
          "output_type": "stream",
          "text": [
            "('Undefined cartesian SRS', -1, 'NONE', -1, 'undefined', 'undefined cartesian coordinate reference system')\n",
            "('Undefined geographic SRS', 0, 'NONE', 0, 'undefined', 'undefined geographic coordinate reference system')\n",
            "('WGS 84 geodetic', 4326, 'EPSG', 4326, 'GEOGCS[\"WGS 84\",DATUM[\"WGS_1984\",SPHEROID[\"WGS 84\",6378137,298.257223563,AUTHORITY[\"EPSG\",\"7030\"]],AUTHORITY[\"EPSG\",\"6326\"]],PRIMEM[\"Greenwich\",0,AUTHORITY[\"EPSG\",\"8901\"]],UNIT[\"degree\",0.0174532925199433,AUTHORITY[\"EPSG\",\"9122\"]],AUTHORITY[\"EPSG\",\"4326\"]]', 'longitude/latitude coordinates in decimal degrees on the WGS 84 spheroid')\n",
            "('WGS 84 / UTM zone 31N', 32631, 'EPSG', 32631, 'PROJCS[\"WGS 84 / UTM zone 31N\",GEOGCS[\"WGS 84\",DATUM[\"WGS_1984\",SPHEROID[\"WGS 84\",6378137,298.257223563,AUTHORITY[\"EPSG\",\"7030\"]],AUTHORITY[\"EPSG\",\"6326\"]],PRIMEM[\"Greenwich\",0,AUTHORITY[\"EPSG\",\"8901\"]],UNIT[\"degree\",0.0174532925199433,AUTHORITY[\"EPSG\",\"9122\"]],AUTHORITY[\"EPSG\",\"4326\"]],PROJECTION[\"Transverse_Mercator\"],PARAMETER[\"latitude_of_origin\",0],PARAMETER[\"central_meridian\",3],PARAMETER[\"scale_factor\",0.9996],PARAMETER[\"false_easting\",500000],PARAMETER[\"false_northing\",0],UNIT[\"metre\",1,AUTHORITY[\"EPSG\",\"9001\"]],AXIS[\"Easting\",EAST],AXIS[\"Northing\",NORTH],AUTHORITY[\"EPSG\",\"32631\"]]', None)\n"
          ],
          "name": "stdout"
        }
      ]
    },
    {
      "cell_type": "markdown",
      "metadata": {
        "id": "tmiUD2B74jke"
      },
      "source": [
        "**Step 5**\n",
        "\n",
        "Let's take a look at which tables have geometries (i.e. what are the feature collections stored in the geopackage?)."
      ]
    },
    {
      "cell_type": "code",
      "metadata": {
        "colab": {
          "base_uri": "https://localhost:8080/"
        },
        "id": "U0l7_hVV4hn9",
        "outputId": "3a6cff6e-1c2c-4ec9-b038-4270e5aac2a4"
      },
      "source": [
        "conn = sqlite3.connect(connection_path, uri=True)\n",
        "cur = conn.cursor()\n",
        "cur.execute(\"SELECT * FROM gpkg_geometry_columns\")\n",
        "rows = cur.fetchall()\n",
        "\n",
        "for row in rows:\n",
        "  print(row)\n",
        "conn.close()"
      ],
      "execution_count": null,
      "outputs": [
        {
          "output_type": "stream",
          "text": [
            "('point2d', 'geom', 'POINT', 0, 0, 0)\n",
            "('linestring2d', 'geom', 'LINESTRING', 4326, 0, 0)\n",
            "('polygon2d', 'geom', 'POLYGON', 32631, 0, 0)\n",
            "('multipoint2d', 'geom', 'MULTIPOINT', 0, 0, 0)\n",
            "('multilinestring2d', 'geom', 'MULTILINESTRING', 0, 0, 0)\n",
            "('multipolygon2d', 'geom', 'MULTIPOLYGON', 0, 0, 0)\n",
            "('geomcollection2d', 'geom', 'GEOMETRYCOLLECTION', 0, 0, 0)\n",
            "('geometry2d', 'geom', 'GEOMETRY', 0, 0, 0)\n",
            "('point3d', 'geom', 'POINT', 0, 1, 0)\n",
            "('linestring3d', 'geom', 'LINESTRING', 0, 1, 0)\n",
            "('polygon3d', 'geom', 'POLYGON', 0, 1, 0)\n",
            "('multipoint3d', 'geom', 'MULTIPOINT', 0, 1, 0)\n",
            "('multilinestring3d', 'geom', 'MULTILINESTRING', 0, 1, 0)\n",
            "('multipolygon3d', 'geom', 'MULTIPOLYGON', 0, 1, 0)\n",
            "('geomcollection3d', 'geom', 'GEOMETRYCOLLECTION', 0, 1, 0)\n",
            "('geometry3d', 'geom', 'GEOMETRY', 0, 1, 0)\n"
          ],
          "name": "stdout"
        }
      ]
    }
  ]
}
