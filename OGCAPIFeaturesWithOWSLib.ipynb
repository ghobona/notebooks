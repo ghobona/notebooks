{
  "nbformat": 4,
  "nbformat_minor": 0,
  "metadata": {
    "colab": {
      "name": "OGCAPIFeaturesWithOWSLib.ipynb",
      "provenance": [],
      "collapsed_sections": []
    },
    "kernelspec": {
      "name": "python3",
      "display_name": "Python 3"
    }
  },
  "cells": [
    {
      "cell_type": "markdown",
      "metadata": {
        "id": "TR21eVGr-9MT"
      },
      "source": [
        "**Step 1**\n",
        "\n",
        "We first need to set up the environment by installing OWSLib. \n",
        "We also want to display some of the data on a map, so we also install folium (which uses leaflet)"
      ]
    },
    {
      "cell_type": "code",
      "metadata": {
        "id": "c-M8NsQFaoN8"
      },
      "source": [
        "!pip install OWSLib\n",
        "!pip install folium"
      ],
      "execution_count": null,
      "outputs": []
    },
    {
      "cell_type": "markdown",
      "metadata": {
        "id": "ifcqzoPqHJGm"
      },
      "source": [
        "**Step 2**\n",
        "\n",
        "Let's test the connection to the endpoint"
      ]
    },
    {
      "cell_type": "code",
      "metadata": {
        "id": "MjjXER2XHOyB"
      },
      "source": [
        "from owslib.ogcapi.features import Features\n",
        "landingPageURL = \"https://demo.ldproxy.net/zoomstack\"\n",
        "w = Features(landingPageURL)\n",
        "print(str(w.url))\n"
      ],
      "execution_count": null,
      "outputs": []
    },
    {
      "cell_type": "markdown",
      "metadata": {
        "id": "MqGSwi5PM5KV"
      },
      "source": [
        "**Step 3**\n",
        "\n",
        "Let's see what conformance classes this API conforms to."
      ]
    },
    {
      "cell_type": "code",
      "metadata": {
        "id": "Ez1PZwEKNBdc"
      },
      "source": [
        "conformance = w.conformance()\n",
        "confClasses = conformance['conformsTo']\n",
        "for confClass in confClasses:\n",
        "  print(confClass)"
      ],
      "execution_count": null,
      "outputs": []
    },
    {
      "cell_type": "markdown",
      "metadata": {
        "id": "qpdBDxI9J_MR"
      },
      "source": [
        "**Step 4**\n",
        "\n",
        "We managed to connect to the server. Now let's list the available feature collections."
      ]
    },
    {
      "cell_type": "code",
      "metadata": {
        "id": "q7RkNafSKOSz"
      },
      "source": [
        "collections = w.collections()\n",
        "feature_collections = w.feature_collections()\n",
        "for feature_collection in feature_collections:\n",
        "  print(feature_collection)"
      ],
      "execution_count": null,
      "outputs": []
    },
    {
      "cell_type": "markdown",
      "metadata": {
        "id": "qASYINnyJfM5"
      },
      "source": [
        "**Step 5**\n",
        "\n",
        "Now let's retrieve the attributes of one of the features from the first listed feature collections to see what properties are there."
      ]
    },
    {
      "cell_type": "code",
      "metadata": {
        "id": "RuKcKJZyJseh"
      },
      "source": [
        "first_feature_collection = feature_collections[0]\n",
        "collection1_query = w.collection_items(first_feature_collection)\n",
        "print(\"The first feature in the \",first_feature_collection, \" collection has the attributes \",collection1_query['features'][0]['properties'])"
      ],
      "execution_count": null,
      "outputs": []
    },
    {
      "cell_type": "markdown",
      "metadata": {
        "id": "A-DS8R1YOzXD"
      },
      "source": [
        "**Step 6**\n",
        "\n",
        "Now how about the geometry? We can access them like any other JSON object."
      ]
    },
    {
      "cell_type": "code",
      "metadata": {
        "id": "8CeFY2b3PL2g"
      },
      "source": [
        "print(\"The first feature in the \",first_feature_collection, \" collection has the geometry \",collection1_query['features'][0]['geometry'])"
      ],
      "execution_count": null,
      "outputs": []
    },
    {
      "cell_type": "markdown",
      "metadata": {
        "id": "H5PvJXfBUmUp"
      },
      "source": [
        "**Step 7**\n",
        "\n",
        "What if we want to display one of the collections? Since each collection is written out as GeoJSON, it can be loaded into a map widget like any other GeoJSON file."
      ]
    },
    {
      "cell_type": "code",
      "metadata": {
        "id": "X2G_pXJAQ29H"
      },
      "source": [
        "import folium\n",
        "m = folium.Map(\n",
        "    location=[50, 0],\n",
        "    tiles=\"cartodbpositron\",\n",
        "    zoom_start=5,\n",
        ")\n",
        "\n",
        "collection_url = landingPageURL+\"/collections/\"+first_feature_collection+\"/items?f=json&limit=1000\"\n",
        "print(collection_url)\n",
        "folium.GeoJson(collection_url, name=\"geojson\").add_to(m)\n",
        "\n",
        "m"
      ],
      "execution_count": null,
      "outputs": []
    }
  ]
}