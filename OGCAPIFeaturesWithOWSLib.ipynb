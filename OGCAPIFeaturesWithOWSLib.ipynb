{
 "cells": [
  {
   "cell_type": "markdown",
   "metadata": {
    "id": "TR21eVGr-9MT"
   },
   "source": [
    "**Step 1**\n",
    "\n",
    "We first need to set up the environment by installing OWSLib. \n",
    "We also want to display some of the data on a map, so we also install folium (which uses leaflet)"
   ]
  },
  {
   "cell_type": "code",
   "execution_count": 1,
   "metadata": {
    "colab": {
     "base_uri": "https://localhost:8080/"
    },
    "id": "c-M8NsQFaoN8",
    "outputId": "41bb4dec-087c-4e2e-fd2d-565a0d065d68"
   },
   "outputs": [
    {
     "name": "stdout",
     "output_type": "stream",
     "text": [
      "Collecting OWSLib\n",
      "  Downloading OWSLib-0.23.0-py2.py3-none-any.whl (203 kB)\n",
      "\u001b[K     |████████████████████████████████| 203 kB 4.1 MB/s eta 0:00:01\n",
      "\u001b[?25hRequirement already satisfied: pyyaml in /srv/conda/envs/notebook/lib/python3.7/site-packages (from OWSLib) (5.4.1)\n",
      "Requirement already satisfied: requests>=1.0 in /srv/conda/envs/notebook/lib/python3.7/site-packages (from OWSLib) (2.25.1)\n",
      "Collecting pyproj>=2\n",
      "  Downloading pyproj-3.0.1-cp37-cp37m-manylinux2010_x86_64.whl (6.5 MB)\n",
      "\u001b[K     |████████████████████████████████| 6.5 MB 8.6 MB/s eta 0:00:01\n",
      "\u001b[?25hRequirement already satisfied: pytz in /srv/conda/envs/notebook/lib/python3.7/site-packages (from OWSLib) (2021.1)\n",
      "Requirement already satisfied: python-dateutil>=1.5 in /srv/conda/envs/notebook/lib/python3.7/site-packages (from OWSLib) (2.8.1)\n",
      "Requirement already satisfied: certifi in /srv/conda/envs/notebook/lib/python3.7/site-packages (from pyproj>=2->OWSLib) (2020.12.5)\n",
      "Requirement already satisfied: six>=1.5 in /srv/conda/envs/notebook/lib/python3.7/site-packages (from python-dateutil>=1.5->OWSLib) (1.15.0)\n",
      "Requirement already satisfied: chardet<5,>=3.0.2 in /srv/conda/envs/notebook/lib/python3.7/site-packages (from requests>=1.0->OWSLib) (3.0.4)\n",
      "Requirement already satisfied: idna<3,>=2.5 in /srv/conda/envs/notebook/lib/python3.7/site-packages (from requests>=1.0->OWSLib) (2.10)\n",
      "Requirement already satisfied: urllib3<1.27,>=1.21.1 in /srv/conda/envs/notebook/lib/python3.7/site-packages (from requests>=1.0->OWSLib) (1.26.3)\n",
      "Installing collected packages: pyproj, OWSLib\n",
      "Successfully installed OWSLib-0.23.0 pyproj-3.0.1\n",
      "Collecting folium\n",
      "  Downloading folium-0.12.1-py2.py3-none-any.whl (94 kB)\n",
      "\u001b[K     |████████████████████████████████| 94 kB 1.8 MB/s eta 0:00:011\n",
      "\u001b[?25hRequirement already satisfied: jinja2>=2.9 in /srv/conda/envs/notebook/lib/python3.7/site-packages (from folium) (2.11.3)\n",
      "Requirement already satisfied: numpy in /srv/conda/envs/notebook/lib/python3.7/site-packages (from folium) (1.20.1)\n",
      "Requirement already satisfied: requests in /srv/conda/envs/notebook/lib/python3.7/site-packages (from folium) (2.25.1)\n",
      "Requirement already satisfied: branca>=0.3.0 in /srv/conda/envs/notebook/lib/python3.7/site-packages (from folium) (0.4.2)\n",
      "Requirement already satisfied: MarkupSafe>=0.23 in /srv/conda/envs/notebook/lib/python3.7/site-packages (from jinja2>=2.9->folium) (1.1.1)\n",
      "Requirement already satisfied: chardet<5,>=3.0.2 in /srv/conda/envs/notebook/lib/python3.7/site-packages (from requests->folium) (3.0.4)\n",
      "Requirement already satisfied: certifi>=2017.4.17 in /srv/conda/envs/notebook/lib/python3.7/site-packages (from requests->folium) (2020.12.5)\n",
      "Requirement already satisfied: urllib3<1.27,>=1.21.1 in /srv/conda/envs/notebook/lib/python3.7/site-packages (from requests->folium) (1.26.3)\n",
      "Requirement already satisfied: idna<3,>=2.5 in /srv/conda/envs/notebook/lib/python3.7/site-packages (from requests->folium) (2.10)\n",
      "Installing collected packages: folium\n",
      "Successfully installed folium-0.12.1\n"
     ]
    }
   ],
   "source": [
    "!pip install OWSLib\n",
    "!pip install folium"
   ]
  },
  {
   "cell_type": "markdown",
   "metadata": {
    "id": "ifcqzoPqHJGm"
   },
   "source": [
    "**Step 2**\n",
    "\n",
    "Let's list the collections"
   ]
  },
  {
   "cell_type": "code",
   "execution_count": 4,
   "metadata": {
    "colab": {
     "base_uri": "https://localhost:8080/"
    },
    "id": "MjjXER2XHOyB",
    "outputId": "36d678db-f295-4ffa-a8b4-b48632d4a354"
   },
   "outputs": [
    {
     "name": "stdout",
     "output_type": "stream",
     "text": [
      "https://demo.ldproxy.net/zoomstack/\n"
     ]
    }
   ],
   "source": [
    "from owslib.ogcapi.features import Features\n",
    "landingPageURL = \"https://demo.ldproxy.net/zoomstack\"\n",
    "w = Features(landingPageURL)\n",
    "print(str(w.url))\n"
   ]
  },
  {
   "cell_type": "markdown",
   "metadata": {
    "id": "MqGSwi5PM5KV"
   },
   "source": [
    "**Step 3**\n",
    "\n",
    "Let's see what conformance classes this API conforms to."
   ]
  },
  {
   "cell_type": "code",
   "execution_count": 5,
   "metadata": {
    "colab": {
     "base_uri": "https://localhost:8080/"
    },
    "id": "Ez1PZwEKNBdc",
    "outputId": "e232b9fc-de12-42a7-8f3f-a569efd67a2b"
   },
   "outputs": [
    {
     "name": "stdout",
     "output_type": "stream",
     "text": [
      "http://www.opengis.net/spec/ogcapi-common-2/0.0/conf/json\n",
      "http://www.opengis.net/spec/ogcapi-features-1/1.0/conf/oas30\n",
      "http://www.opengis.net/spec/ogcapi-common-1/0.0/conf/oas30\n",
      "http://www.opengis.net/spec/ogcapi-features-2/1.0/conf/crs\n",
      "http://www.opengis.net/spec/ogcapi-features-1/1.0/conf/core\n",
      "http://www.opengis.net/spec/ogcapi-records-1/0.0/conf/core\n",
      "http://www.opengis.net/spec/ogcapi-features-1/1.0/conf/geojson\n",
      "http://www.opengis.net/spec/ogcapi-records-1/0.0/conf/json\n",
      "http://www.opengis.net/spec/ogcapi-common-1/0.0/conf/json\n",
      "http://www.opengis.net/spec/ogcapi-features-3/0.0/conf/filter\n",
      "http://www.opengis.net/spec/ogcapi-features-3/0.0/conf/features-filter\n",
      "http://www.opengis.net/spec/ogcapi-features-3/0.0/conf/simple-cql\n",
      "http://www.opengis.net/spec/ogcapi-features-3/0.0/conf/cql-text\n",
      "http://www.opengis.net/spec/ogcapi-features-3/0.0/conf/cql-json\n",
      "http://www.opengis.net/spec/ogcapi-features-1/1.0/conf/html\n",
      "http://www.opengis.net/spec/ogcapi-records-1/0.0/conf/html\n",
      "http://www.opengis.net/spec/ogcapi-common-1/0.0/conf/html\n",
      "http://www.opengis.net/spec/ogcapi-common-1/0.0/conf/core\n",
      "http://www.opengis.net/spec/ogcapi-common-2/0.0/conf/collections\n",
      "http://www.opengis.net/spec/ogcapi-common-2/0.0/conf/html\n"
     ]
    }
   ],
   "source": [
    "conformance = w.conformance()\n",
    "confClasses = conformance['conformsTo']\n",
    "for confClass in confClasses:\n",
    "  print(confClass)"
   ]
  },
  {
   "cell_type": "markdown",
   "metadata": {
    "id": "qpdBDxI9J_MR"
   },
   "source": [
    "**Step 4**\n",
    "\n",
    "We managed to connect to the server. Now let's list the available feature collections."
   ]
  },
  {
   "cell_type": "code",
   "execution_count": 6,
   "metadata": {
    "colab": {
     "base_uri": "https://localhost:8080/"
    },
    "id": "q7RkNafSKOSz",
    "outputId": "7490f39f-9371-4e33-962a-89a4eeb7045a"
   },
   "outputs": [
    {
     "name": "stdout",
     "output_type": "stream",
     "text": [
      "airports\n",
      "names\n",
      "rail\n",
      "railway_stations\n",
      "roads_local\n",
      "roads_national\n",
      "roads_regional\n"
     ]
    }
   ],
   "source": [
    "collections = w.collections()\n",
    "feature_collections = w.feature_collections()\n",
    "for feature_collection in feature_collections:\n",
    "  print(feature_collection)"
   ]
  },
  {
   "cell_type": "markdown",
   "metadata": {
    "id": "qASYINnyJfM5"
   },
   "source": [
    "**Step 5**\n",
    "\n",
    "Now let's retrieve the attributes of one of the features from the first listed feature collections to see what properties are there."
   ]
  },
  {
   "cell_type": "code",
   "execution_count": 7,
   "metadata": {
    "colab": {
     "base_uri": "https://localhost:8080/"
    },
    "id": "RuKcKJZyJseh",
    "outputId": "f43ea770-7dab-4667-f39d-a7ba3feb565b"
   },
   "outputs": [
    {
     "name": "stdout",
     "output_type": "stream",
     "text": [
      "The first feature in the  airports  collection has the attributes  {'name': 'Papa Stour Airstrip'}\n"
     ]
    }
   ],
   "source": [
    "first_feature_collection = feature_collections[0]\n",
    "collection1_query = w.collection_items(first_feature_collection)\n",
    "print(\"The first feature in the \",first_feature_collection, \" collection has the attributes \",collection1_query['features'][0]['properties'])"
   ]
  },
  {
   "cell_type": "markdown",
   "metadata": {
    "id": "A-DS8R1YOzXD"
   },
   "source": [
    "**Step 6**\n",
    "\n",
    "Now how about the geometry? We can access them like any other JSON object."
   ]
  },
  {
   "cell_type": "code",
   "execution_count": 8,
   "metadata": {
    "colab": {
     "base_uri": "https://localhost:8080/"
    },
    "id": "8CeFY2b3PL2g",
    "outputId": "b101dad1-a07f-4f24-fd88-a3274d596fc8"
   },
   "outputs": [
    {
     "name": "stdout",
     "output_type": "stream",
     "text": [
      "The first feature in the  airports  collection has the geometry  {'type': 'Point', 'coordinates': [-1.6930015191283547, 60.32168208804711]}\n"
     ]
    }
   ],
   "source": [
    "print(\"The first feature in the \",first_feature_collection, \" collection has the geometry \",collection1_query['features'][0]['geometry'])"
   ]
  },
  {
   "cell_type": "markdown",
   "metadata": {
    "id": "H5PvJXfBUmUp"
   },
   "source": [
    "**Step 7**\n",
    "\n",
    "What if we want to display one of the collections? Since each collection is written out as GeoJSON, it can be loaded into a map widget like any other GeoJSON file."
   ]
  },
  {
   "cell_type": "code",
   "execution_count": 9,
   "metadata": {
    "colab": {
     "base_uri": "https://localhost:8080/",
     "height": 1000
    },
    "id": "X2G_pXJAQ29H",
    "outputId": "ef95c048-b286-4af9-d9aa-e0b3cdc1d915"
   },
   "outputs": [
    {
     "name": "stdout",
     "output_type": "stream",
     "text": [
      "https://demo.ldproxy.net/zoomstack/collections/airports/items?f=json&limit=1000\n"
     ]
    },
    {
     "data": {
      "text/html": [
       "<div style=\"width:100%;\"><div style=\"position:relative;width:100%;height:0;padding-bottom:60%;\"><span style=\"color:#565656\">Make this Notebook Trusted to load map: File -> Trust Notebook</span><iframe src=\"about:blank\" style=\"position:absolute;width:100%;height:100%;left:0;top:0;border:none !important;\" data-html=%3C%21DOCTYPE%20html%3E%0A%3Chead%3E%20%20%20%20%0A%20%20%20%20%3Cmeta%20http-equiv%3D%22content-type%22%20content%3D%22text/html%3B%20charset%3DUTF-8%22%20/%3E%0A%20%20%20%20%0A%20%20%20%20%20%20%20%20%3Cscript%3E%0A%20%20%20%20%20%20%20%20%20%20%20%20L_NO_TOUCH%20%3D%20false%3B%0A%20%20%20%20%20%20%20%20%20%20%20%20L_DISABLE_3D%20%3D%20false%3B%0A%20%20%20%20%20%20%20%20%3C/script%3E%0A%20%20%20%20%0A%20%20%20%20%3Cstyle%3Ehtml%2C%20body%20%7Bwidth%3A%20100%25%3Bheight%3A%20100%25%3Bmargin%3A%200%3Bpadding%3A%200%3B%7D%3C/style%3E%0A%20%20%20%20%3Cstyle%3E%23map%20%7Bposition%3Aabsolute%3Btop%3A0%3Bbottom%3A0%3Bright%3A0%3Bleft%3A0%3B%7D%3C/style%3E%0A%20%20%20%20%3Cscript%20src%3D%22https%3A//cdn.jsdelivr.net/npm/leaflet%401.6.0/dist/leaflet.js%22%3E%3C/script%3E%0A%20%20%20%20%3Cscript%20src%3D%22https%3A//code.jquery.com/jquery-1.12.4.min.js%22%3E%3C/script%3E%0A%20%20%20%20%3Cscript%20src%3D%22https%3A//maxcdn.bootstrapcdn.com/bootstrap/3.2.0/js/bootstrap.min.js%22%3E%3C/script%3E%0A%20%20%20%20%3Cscript%20src%3D%22https%3A//cdnjs.cloudflare.com/ajax/libs/Leaflet.awesome-markers/2.0.2/leaflet.awesome-markers.js%22%3E%3C/script%3E%0A%20%20%20%20%3Clink%20rel%3D%22stylesheet%22%20href%3D%22https%3A//cdn.jsdelivr.net/npm/leaflet%401.6.0/dist/leaflet.css%22/%3E%0A%20%20%20%20%3Clink%20rel%3D%22stylesheet%22%20href%3D%22https%3A//maxcdn.bootstrapcdn.com/bootstrap/3.2.0/css/bootstrap.min.css%22/%3E%0A%20%20%20%20%3Clink%20rel%3D%22stylesheet%22%20href%3D%22https%3A//maxcdn.bootstrapcdn.com/bootstrap/3.2.0/css/bootstrap-theme.min.css%22/%3E%0A%20%20%20%20%3Clink%20rel%3D%22stylesheet%22%20href%3D%22https%3A//maxcdn.bootstrapcdn.com/font-awesome/4.6.3/css/font-awesome.min.css%22/%3E%0A%20%20%20%20%3Clink%20rel%3D%22stylesheet%22%20href%3D%22https%3A//cdnjs.cloudflare.com/ajax/libs/Leaflet.awesome-markers/2.0.2/leaflet.awesome-markers.css%22/%3E%0A%20%20%20%20%3Clink%20rel%3D%22stylesheet%22%20href%3D%22https%3A//cdn.jsdelivr.net/gh/python-visualization/folium/folium/templates/leaflet.awesome.rotate.min.css%22/%3E%0A%20%20%20%20%0A%20%20%20%20%20%20%20%20%20%20%20%20%3Cmeta%20name%3D%22viewport%22%20content%3D%22width%3Ddevice-width%2C%0A%20%20%20%20%20%20%20%20%20%20%20%20%20%20%20%20initial-scale%3D1.0%2C%20maximum-scale%3D1.0%2C%20user-scalable%3Dno%22%20/%3E%0A%20%20%20%20%20%20%20%20%20%20%20%20%3Cstyle%3E%0A%20%20%20%20%20%20%20%20%20%20%20%20%20%20%20%20%23map_62be51487730487197c866fdc8f1f72b%20%7B%0A%20%20%20%20%20%20%20%20%20%20%20%20%20%20%20%20%20%20%20%20position%3A%20relative%3B%0A%20%20%20%20%20%20%20%20%20%20%20%20%20%20%20%20%20%20%20%20width%3A%20100.0%25%3B%0A%20%20%20%20%20%20%20%20%20%20%20%20%20%20%20%20%20%20%20%20height%3A%20100.0%25%3B%0A%20%20%20%20%20%20%20%20%20%20%20%20%20%20%20%20%20%20%20%20left%3A%200.0%25%3B%0A%20%20%20%20%20%20%20%20%20%20%20%20%20%20%20%20%20%20%20%20top%3A%200.0%25%3B%0A%20%20%20%20%20%20%20%20%20%20%20%20%20%20%20%20%7D%0A%20%20%20%20%20%20%20%20%20%20%20%20%3C/style%3E%0A%20%20%20%20%20%20%20%20%0A%3C/head%3E%0A%3Cbody%3E%20%20%20%20%0A%20%20%20%20%0A%20%20%20%20%20%20%20%20%20%20%20%20%3Cdiv%20class%3D%22folium-map%22%20id%3D%22map_62be51487730487197c866fdc8f1f72b%22%20%3E%3C/div%3E%0A%20%20%20%20%20%20%20%20%0A%3C/body%3E%0A%3Cscript%3E%20%20%20%20%0A%20%20%20%20%0A%20%20%20%20%20%20%20%20%20%20%20%20var%20map_62be51487730487197c866fdc8f1f72b%20%3D%20L.map%28%0A%20%20%20%20%20%20%20%20%20%20%20%20%20%20%20%20%22map_62be51487730487197c866fdc8f1f72b%22%2C%0A%20%20%20%20%20%20%20%20%20%20%20%20%20%20%20%20%7B%0A%20%20%20%20%20%20%20%20%20%20%20%20%20%20%20%20%20%20%20%20center%3A%20%5B50.0%2C%200.0%5D%2C%0A%20%20%20%20%20%20%20%20%20%20%20%20%20%20%20%20%20%20%20%20crs%3A%20L.CRS.EPSG3857%2C%0A%20%20%20%20%20%20%20%20%20%20%20%20%20%20%20%20%20%20%20%20zoom%3A%205%2C%0A%20%20%20%20%20%20%20%20%20%20%20%20%20%20%20%20%20%20%20%20zoomControl%3A%20true%2C%0A%20%20%20%20%20%20%20%20%20%20%20%20%20%20%20%20%20%20%20%20preferCanvas%3A%20false%2C%0A%20%20%20%20%20%20%20%20%20%20%20%20%20%20%20%20%7D%0A%20%20%20%20%20%20%20%20%20%20%20%20%29%3B%0A%0A%20%20%20%20%20%20%20%20%20%20%20%20%0A%0A%20%20%20%20%20%20%20%20%0A%20%20%20%20%0A%20%20%20%20%20%20%20%20%20%20%20%20var%20tile_layer_d7bd26469a2346ea85c4f29a92cbf2d1%20%3D%20L.tileLayer%28%0A%20%20%20%20%20%20%20%20%20%20%20%20%20%20%20%20%22https%3A//cartodb-basemaps-%7Bs%7D.global.ssl.fastly.net/light_all/%7Bz%7D/%7Bx%7D/%7By%7D.png%22%2C%0A%20%20%20%20%20%20%20%20%20%20%20%20%20%20%20%20%7B%22attribution%22%3A%20%22%5Cu0026copy%3B%20%5Cu003ca%20href%3D%5C%22http%3A//www.openstreetmap.org/copyright%5C%22%5Cu003eOpenStreetMap%5Cu003c/a%5Cu003e%20contributors%20%5Cu0026copy%3B%20%5Cu003ca%20href%3D%5C%22http%3A//cartodb.com/attributions%5C%22%5Cu003eCartoDB%5Cu003c/a%5Cu003e%2C%20CartoDB%20%5Cu003ca%20href%20%3D%5C%22http%3A//cartodb.com/attributions%5C%22%5Cu003eattributions%5Cu003c/a%5Cu003e%22%2C%20%22detectRetina%22%3A%20false%2C%20%22maxNativeZoom%22%3A%2018%2C%20%22maxZoom%22%3A%2018%2C%20%22minZoom%22%3A%200%2C%20%22noWrap%22%3A%20false%2C%20%22opacity%22%3A%201%2C%20%22subdomains%22%3A%20%22abc%22%2C%20%22tms%22%3A%20false%7D%0A%20%20%20%20%20%20%20%20%20%20%20%20%29.addTo%28map_62be51487730487197c866fdc8f1f72b%29%3B%0A%20%20%20%20%20%20%20%20%0A%20%20%20%20%0A%0A%20%20%20%20%20%20%20%20function%20geo_json_58308e94c3e64caf9df881e567d570b5_onEachFeature%28feature%2C%20layer%29%20%7B%0A%20%20%20%20%20%20%20%20%20%20%20%20layer.on%28%7B%0A%20%20%20%20%20%20%20%20%20%20%20%20%7D%29%3B%0A%20%20%20%20%20%20%20%20%7D%3B%0A%20%20%20%20%20%20%20%20var%20geo_json_58308e94c3e64caf9df881e567d570b5%20%3D%20L.geoJson%28null%2C%20%7B%0A%20%20%20%20%20%20%20%20%20%20%20%20%20%20%20%20onEachFeature%3A%20geo_json_58308e94c3e64caf9df881e567d570b5_onEachFeature%2C%0A%20%20%20%20%20%20%20%20%20%20%20%20%0A%20%20%20%20%20%20%20%20%7D%29%3B%0A%0A%20%20%20%20%20%20%20%20function%20geo_json_58308e94c3e64caf9df881e567d570b5_add%20%28data%29%20%7B%0A%20%20%20%20%20%20%20%20%20%20%20%20geo_json_58308e94c3e64caf9df881e567d570b5%0A%20%20%20%20%20%20%20%20%20%20%20%20%20%20%20%20.addData%28data%29%0A%20%20%20%20%20%20%20%20%20%20%20%20%20%20%20%20.addTo%28map_62be51487730487197c866fdc8f1f72b%29%3B%0A%20%20%20%20%20%20%20%20%7D%0A%20%20%20%20%20%20%20%20%20%20%20%20geo_json_58308e94c3e64caf9df881e567d570b5_add%28%7B%22features%22%3A%20%5B%7B%22geometry%22%3A%20%7B%22coordinates%22%3A%20%5B-1.6930015191283547%2C%2060.32168208804711%5D%2C%20%22type%22%3A%20%22Point%22%7D%2C%20%22id%22%3A%201%2C%20%22properties%22%3A%20%7B%22name%22%3A%20%22Papa%20Stour%20Airstrip%22%7D%2C%20%22type%22%3A%20%22Feature%22%7D%2C%20%7B%22geometry%22%3A%20%7B%22coordinates%22%3A%20%5B-1.2922267918065946%2C%2059.87826658266477%5D%2C%20%22type%22%3A%20%22Point%22%7D%2C%20%22id%22%3A%202%2C%20%22properties%22%3A%20%7B%22name%22%3A%20%22Sumburgh%20Airport%22%7D%2C%20%22type%22%3A%20%22Feature%22%7D%2C%20%7B%22geometry%22%3A%20%7B%22coordinates%22%3A%20%5B-1.2439112354670816%2C%2060.19174607648357%5D%2C%20%22type%22%3A%20%22Point%22%7D%2C%20%22id%22%3A%203%2C%20%22properties%22%3A%20%7B%22name%22%3A%20%22Tingwall%20Airport%22%7D%2C%20%22type%22%3A%20%22Feature%22%7D%2C%20%7B%22geometry%22%3A%20%7B%22coordinates%22%3A%20%5B-2.8997053909143173%2C%2058.95796086751565%5D%2C%20%22type%22%3A%20%22Point%22%7D%2C%20%22id%22%3A%204%2C%20%22properties%22%3A%20%7B%22name%22%3A%20%22Kirkwall%20Airport%22%7D%2C%20%22type%22%3A%20%22Feature%22%7D%2C%20%7B%22geometry%22%3A%20%7B%22coordinates%22%3A%20%5B-6.329507872687711%2C%2058.21390122185142%5D%2C%20%22type%22%3A%20%22Point%22%7D%2C%20%22id%22%3A%205%2C%20%22properties%22%3A%20%7B%22name%22%3A%20%22Port-Adhair%20Ste%5Cu00f2rnabhaigh/Stornoway%20Airport%22%7D%2C%20%22type%22%3A%20%22Feature%22%7D%2C%20%7B%22geometry%22%3A%20%7B%22coordinates%22%3A%20%5B-3.0940329693415842%2C%2058.45836271629553%5D%2C%20%22type%22%3A%20%22Point%22%7D%2C%20%22id%22%3A%206%2C%20%22properties%22%3A%20%7B%22name%22%3A%20%22Wick%20John%20O%5Cu0027Groats%20Airport%22%7D%2C%20%22type%22%3A%20%22Feature%22%7D%2C%20%7B%22geometry%22%3A%20%7B%22coordinates%22%3A%20%5B-7.360414908949283%2C%2057.48380889435407%5D%2C%20%22type%22%3A%20%22Point%22%7D%2C%20%22id%22%3A%207%2C%20%22properties%22%3A%20%7B%22name%22%3A%20%22Benbecula%20Airport%22%7D%2C%20%22type%22%3A%20%22Feature%22%7D%2C%20%7B%22geometry%22%3A%20%7B%22coordinates%22%3A%20%5B-7.448598378796185%2C%2057.02556972573971%5D%2C%20%22type%22%3A%20%22Point%22%7D%2C%20%22id%22%3A%208%2C%20%22properties%22%3A%20%7B%22name%22%3A%20%22Barra%20Airport%22%7D%2C%20%22type%22%3A%20%22Feature%22%7D%2C%20%7B%22geometry%22%3A%20%7B%22coordinates%22%3A%20%5B-4.04935162680121%2C%2057.54314666847268%5D%2C%20%22type%22%3A%20%22Point%22%7D%2C%20%22id%22%3A%209%2C%20%22properties%22%3A%20%7B%22name%22%3A%20%22Inverness%20Airport%22%7D%2C%20%22type%22%3A%20%22Feature%22%7D%2C%20%7B%22geometry%22%3A%20%7B%22coordinates%22%3A%20%5B-2.200178917891718%2C%2057.20235883102241%5D%2C%20%22type%22%3A%20%22Point%22%7D%2C%20%22id%22%3A%2010%2C%20%22properties%22%3A%20%7B%22name%22%3A%20%22Aberdeen%20International%20Airport%22%7D%2C%20%22type%22%3A%20%22Feature%22%7D%2C%20%7B%22geometry%22%3A%20%7B%22coordinates%22%3A%20%5B-6.869044031222193%2C%2056.501156354606444%5D%2C%20%22type%22%3A%20%22Point%22%7D%2C%20%22id%22%3A%2011%2C%20%22properties%22%3A%20%7B%22name%22%3A%20%22Tiree%20Airport%22%7D%2C%20%22type%22%3A%20%22Feature%22%7D%2C%20%7B%22geometry%22%3A%20%7B%22coordinates%22%3A%20%5B-5.400688887456324%2C%2056.46294241517279%5D%2C%20%22type%22%3A%20%22Point%22%7D%2C%20%22id%22%3A%2012%2C%20%22properties%22%3A%20%7B%22name%22%3A%20%22Oban%20Airport%22%7D%2C%20%22type%22%3A%20%22Feature%22%7D%2C%20%7B%22geometry%22%3A%20%7B%22coordinates%22%3A%20%5B-3.0257534450973878%2C%2056.45262784078139%5D%2C%20%22type%22%3A%20%22Point%22%7D%2C%20%22id%22%3A%2013%2C%20%22properties%22%3A%20%7B%22name%22%3A%20%22Dundee%20Airport%22%7D%2C%20%22type%22%3A%20%22Feature%22%7D%2C%20%7B%22geometry%22%3A%20%7B%22coordinates%22%3A%20%5B-6.258060928844673%2C%2055.68241213281282%5D%2C%20%22type%22%3A%20%22Point%22%7D%2C%20%22id%22%3A%2014%2C%20%22properties%22%3A%20%7B%22name%22%3A%20%22Islay%20Airport%22%7D%2C%20%22type%22%3A%20%22Feature%22%7D%2C%20%7B%22geometry%22%3A%20%7B%22coordinates%22%3A%20%5B-5.6906485416477315%2C%2055.438419723772114%5D%2C%20%22type%22%3A%20%22Point%22%7D%2C%20%22id%22%3A%2015%2C%20%22properties%22%3A%20%7B%22name%22%3A%20%22Campbeltown%20Airport%22%7D%2C%20%22type%22%3A%20%22Feature%22%7D%2C%20%7B%22geometry%22%3A%20%7B%22coordinates%22%3A%20%5B-4.593812600356385%2C%2055.504175996269254%5D%2C%20%22type%22%3A%20%22Point%22%7D%2C%20%22id%22%3A%2016%2C%20%22properties%22%3A%20%7B%22name%22%3A%20%22Glasgow%20Prestwick%20Airport%22%7D%2C%20%22type%22%3A%20%22Feature%22%7D%2C%20%7B%22geometry%22%3A%20%7B%22coordinates%22%3A%20%5B-4.434692046948681%2C%2055.86987096600148%5D%2C%20%22type%22%3A%20%22Point%22%7D%2C%20%22id%22%3A%2017%2C%20%22properties%22%3A%20%7B%22name%22%3A%20%22Glasgow%20Airport%22%7D%2C%20%22type%22%3A%20%22Feature%22%7D%2C%20%7B%22geometry%22%3A%20%7B%22coordinates%22%3A%20%5B-3.361097075475028%2C%2055.94824571273946%5D%2C%20%22type%22%3A%20%22Point%22%7D%2C%20%22id%22%3A%2018%2C%20%22properties%22%3A%20%7B%22name%22%3A%20%22Edinburgh%20Airport%22%7D%2C%20%22type%22%3A%20%22Feature%22%7D%2C%20%7B%22geometry%22%3A%20%7B%22coordinates%22%3A%20%5B-1.696250332553051%2C%2055.03825616123322%5D%2C%20%22type%22%3A%20%22Point%22%7D%2C%20%22id%22%3A%2019%2C%20%22properties%22%3A%20%7B%22name%22%3A%20%22Newcastle%20International%20Airport%22%7D%2C%20%22type%22%3A%20%22Feature%22%7D%2C%20%7B%22geometry%22%3A%20%7B%22coordinates%22%3A%20%5B-1.428036461358818%2C%2054.50895701297818%5D%2C%20%22type%22%3A%20%22Point%22%7D%2C%20%22id%22%3A%2020%2C%20%22properties%22%3A%20%7B%22name%22%3A%20%22Teesside%20International%20Airport%22%7D%2C%20%22type%22%3A%20%22Feature%22%7D%2C%20%7B%22geometry%22%3A%20%7B%22coordinates%22%3A%20%5B-1.6584919635718571%2C%2053.866470854408625%5D%2C%20%22type%22%3A%20%22Point%22%7D%2C%20%22id%22%3A%2021%2C%20%22properties%22%3A%20%7B%22name%22%3A%20%22Leeds%20Bradford%20International%20Airport%22%7D%2C%20%22type%22%3A%20%22Feature%22%7D%2C%20%7B%22geometry%22%3A%20%7B%22coordinates%22%3A%20%5B-4.535219646054831%2C%2053.24830514825456%5D%2C%20%22type%22%3A%20%22Point%22%7D%2C%20%22id%22%3A%2022%2C%20%22properties%22%3A%20%7B%22name%22%3A%20%22Maes%20Awyr%20M%5Cu00f4n/Anglesey%20Airport%22%7D%2C%20%22type%22%3A%20%22Feature%22%7D%2C%20%7B%22geometry%22%3A%20%7B%22coordinates%22%3A%20%5B-2.852333928783864%2C%2053.33530113918134%5D%2C%20%22type%22%3A%20%22Point%22%7D%2C%20%22id%22%3A%2023%2C%20%22properties%22%3A%20%7B%22name%22%3A%20%22Liverpool%20John%20Lennon%20Airport%22%7D%2C%20%22type%22%3A%20%22Feature%22%7D%2C%20%7B%22geometry%22%3A%20%7B%22coordinates%22%3A%20%5B-1.3307107170022816%2C%2052.82845279640258%5D%2C%20%22type%22%3A%20%22Point%22%7D%2C%20%22id%22%3A%2024%2C%20%22properties%22%3A%20%7B%22name%22%3A%20%22East%20Midlands%20Airport%22%7D%2C%20%22type%22%3A%20%22Feature%22%7D%2C%20%7B%22geometry%22%3A%20%7B%22coordinates%22%3A%20%5B-1.0048449157619634%2C%2053.47860809181895%5D%2C%20%22type%22%3A%20%22Point%22%7D%2C%20%22id%22%3A%2025%2C%20%22properties%22%3A%20%7B%22name%22%3A%20%22Doncaster%20Sheffield%20Airport%22%7D%2C%20%22type%22%3A%20%22Feature%22%7D%2C%20%7B%22geometry%22%3A%20%7B%22coordinates%22%3A%20%5B-2.1660892775780063%2C%2051.892887338920346%5D%2C%20%22type%22%3A%20%22Point%22%7D%2C%20%22id%22%3A%2026%2C%20%22properties%22%3A%20%7B%22name%22%3A%20%22Gloucestershire%20Airport%22%7D%2C%20%22type%22%3A%20%22Feature%22%7D%2C%20%7B%22geometry%22%3A%20%7B%22coordinates%22%3A%20%5B-1.7455492950328984%2C%2052.453169096122885%5D%2C%20%22type%22%3A%20%22Point%22%7D%2C%20%22id%22%3A%2027%2C%20%22properties%22%3A%20%7B%22name%22%3A%20%22Birmingham%20Airport%22%7D%2C%20%22type%22%3A%20%22Feature%22%7D%2C%20%7B%22geometry%22%3A%20%7B%22coordinates%22%3A%20%5B-1.319136474086141%2C%2051.8370092055314%5D%2C%20%22type%22%3A%20%22Point%22%7D%2C%20%22id%22%3A%2028%2C%20%22properties%22%3A%20%7B%22name%22%3A%20%22London%20Oxford%20Airport%22%7D%2C%20%22type%22%3A%20%22Feature%22%7D%2C%20%7B%22geometry%22%3A%20%7B%22coordinates%22%3A%20%5B-3.3456377631287775%2C%2051.39829219298481%5D%2C%20%22type%22%3A%20%22Point%22%7D%2C%20%22id%22%3A%2029%2C%20%22properties%22%3A%20%7B%22name%22%3A%20%22Maes%20Awyr%20Caerdydd/Cardiff%20Airport%22%7D%2C%20%22type%22%3A%20%22Feature%22%7D%2C%20%7B%22geometry%22%3A%20%7B%22coordinates%22%3A%20%5B-2.715546855450928%2C%2051.38281069270906%5D%2C%20%22type%22%3A%20%22Point%22%7D%2C%20%22id%22%3A%2030%2C%20%22properties%22%3A%20%7B%22name%22%3A%20%22Bristol%20International%20Airport%22%7D%2C%20%22type%22%3A%20%22Feature%22%7D%2C%20%7B%22geometry%22%3A%20%7B%22coordinates%22%3A%20%5B-1.356642531784933%2C%2050.95068234694257%5D%2C%20%22type%22%3A%20%22Point%22%7D%2C%20%22id%22%3A%2031%2C%20%22properties%22%3A%20%7B%22name%22%3A%20%22Southampton%20Airport%22%7D%2C%20%22type%22%3A%20%22Feature%22%7D%2C%20%7B%22geometry%22%3A%20%7B%22coordinates%22%3A%20%5B-6.291236929556828%2C%2049.91323944842716%5D%2C%20%22type%22%3A%20%22Point%22%7D%2C%20%22id%22%3A%2032%2C%20%22properties%22%3A%20%7B%22name%22%3A%20%22St%20Mary%5Cu0027s%20Airport%22%7D%2C%20%22type%22%3A%20%22Feature%22%7D%2C%20%7B%22geometry%22%3A%20%7B%22coordinates%22%3A%20%5B-5.671560469210627%2C%2050.10217404511443%5D%2C%20%22type%22%3A%20%22Point%22%7D%2C%20%22id%22%3A%2033%2C%20%22properties%22%3A%20%7B%22name%22%3A%20%22Land%5Cu0027s%20End%20Airport%22%7D%2C%20%22type%22%3A%20%22Feature%22%7D%2C%20%7B%22geometry%22%3A%20%7B%22coordinates%22%3A%20%5B-5.006894978997998%2C%2050.439931725868746%5D%2C%20%22type%22%3A%20%22Point%22%7D%2C%20%22id%22%3A%2034%2C%20%22properties%22%3A%20%7B%22name%22%3A%20%22Newquay%20Airport/Newquay%20Cornwall%20Airport%22%7D%2C%20%22type%22%3A%20%22Feature%22%7D%2C%20%7B%22geometry%22%3A%20%7B%22coordinates%22%3A%20%5B-3.4151503480158594%2C%2050.73472967559622%5D%2C%20%22type%22%3A%20%22Point%22%7D%2C%20%22id%22%3A%2035%2C%20%22properties%22%3A%20%7B%22name%22%3A%20%22Exeter%20Airport%22%7D%2C%20%22type%22%3A%20%22Feature%22%7D%2C%20%7B%22geometry%22%3A%20%7B%22coordinates%22%3A%20%5B-1.8420966276043542%2C%2050.78220137882643%5D%2C%20%22type%22%3A%20%22Point%22%7D%2C%20%22id%22%3A%2036%2C%20%22properties%22%3A%20%7B%22name%22%3A%20%22Bournemouth%20Airport%22%7D%2C%20%22type%22%3A%20%22Feature%22%7D%2C%20%7B%22geometry%22%3A%20%7B%22coordinates%22%3A%20%5B-0.35090468080104376%2C%2053.575466548689576%5D%2C%20%22type%22%3A%20%22Point%22%7D%2C%20%22id%22%3A%2037%2C%20%22properties%22%3A%20%7B%22name%22%3A%20%22Humberside%20Airport%22%7D%2C%20%22type%22%3A%20%22Feature%22%7D%2C%20%7B%22geometry%22%3A%20%7B%22coordinates%22%3A%20%5B1.282292067645508%2C%2052.67631741842484%5D%2C%20%22type%22%3A%20%22Point%22%7D%2C%20%22id%22%3A%2038%2C%20%22properties%22%3A%20%7B%22name%22%3A%20%22Norwich%20Airport%22%7D%2C%20%22type%22%3A%20%22Feature%22%7D%2C%20%7B%22geometry%22%3A%20%7B%22coordinates%22%3A%20%5B-0.37125296051634754%2C%2051.8769901462248%5D%2C%20%22type%22%3A%20%22Point%22%7D%2C%20%22id%22%3A%2039%2C%20%22properties%22%3A%20%7B%22name%22%3A%20%22London%20Luton%20Airport%22%7D%2C%20%22type%22%3A%20%22Feature%22%7D%2C%20%7B%22geometry%22%3A%20%7B%22coordinates%22%3A%20%5B0.2393696545996694%2C%2051.885664195691135%5D%2C%20%22type%22%3A%20%22Point%22%7D%2C%20%22id%22%3A%2040%2C%20%22properties%22%3A%20%7B%22name%22%3A%20%22Stansted%20Airport%22%7D%2C%20%22type%22%3A%20%22Feature%22%7D%2C%20%7B%22geometry%22%3A%20%7B%22coordinates%22%3A%20%5B0.1761144899156106%2C%2052.203484079452004%5D%2C%20%22type%22%3A%20%22Point%22%7D%2C%20%22id%22%3A%2041%2C%20%22properties%22%3A%20%7B%22name%22%3A%20%22Cambridge%20International%20Airport%22%7D%2C%20%22type%22%3A%20%22Feature%22%7D%2C%20%7B%22geometry%22%3A%20%7B%22coordinates%22%3A%20%5B-0.45619461486024465%2C%2051.47047465208519%5D%2C%20%22type%22%3A%20%22Point%22%7D%2C%20%22id%22%3A%2042%2C%20%22properties%22%3A%20%7B%22name%22%3A%20%22London%20Heathrow%20Airport%22%7D%2C%20%22type%22%3A%20%22Feature%22%7D%2C%20%7B%22geometry%22%3A%20%7B%22coordinates%22%3A%20%5B-0.1836543137209196%2C%2051.15359955997004%5D%2C%20%22type%22%3A%20%22Point%22%7D%2C%20%22id%22%3A%2043%2C%20%22properties%22%3A%20%7B%22name%22%3A%20%22London%20Gatwick%20Airport%22%7D%2C%20%22type%22%3A%20%22Feature%22%7D%2C%20%7B%22geometry%22%3A%20%7B%22coordinates%22%3A%20%5B0.055461015898017225%2C%2051.504393891454896%5D%2C%20%22type%22%3A%20%22Point%22%7D%2C%20%22id%22%3A%2044%2C%20%22properties%22%3A%20%7B%22name%22%3A%20%22London%20City%20Airport%22%7D%2C%20%22type%22%3A%20%22Feature%22%7D%2C%20%7B%22geometry%22%3A%20%7B%22coordinates%22%3A%20%5B0.6934315599341037%2C%2051.57034424506723%5D%2C%20%22type%22%3A%20%22Point%22%7D%2C%20%22id%22%3A%2045%2C%20%22properties%22%3A%20%7B%22name%22%3A%20%22London%20Southend%20Airport%22%7D%2C%20%22type%22%3A%20%22Feature%22%7D%2C%20%7B%22geometry%22%3A%20%7B%22coordinates%22%3A%20%5B0.9384272202738071%2C%2050.95561746348564%5D%2C%20%22type%22%3A%20%22Point%22%7D%2C%20%22id%22%3A%2046%2C%20%22properties%22%3A%20%7B%22name%22%3A%20%22Lydd%20Airport%22%7D%2C%20%22type%22%3A%20%22Feature%22%7D%5D%2C%20%22links%22%3A%20%5B%7B%22href%22%3A%20%22https%3A//demo.ldproxy.net/zoomstack/collections/airports/items%3Flimit%3D1000%5Cu0026f%3Djson%22%2C%20%22rel%22%3A%20%22self%22%2C%20%22title%22%3A%20%22This%20document%22%2C%20%22type%22%3A%20%22application/geo%2Bjson%22%7D%2C%20%7B%22href%22%3A%20%22https%3A//demo.ldproxy.net/zoomstack/collections/airports/items%3Flimit%3D1000%5Cu0026f%3Dhtml%22%2C%20%22rel%22%3A%20%22alternate%22%2C%20%22title%22%3A%20%22This%20document%20as%20HTML%22%2C%20%22type%22%3A%20%22text/html%22%7D%5D%2C%20%22numberReturned%22%3A%2046%2C%20%22timeStamp%22%3A%20%222021-03-11T08%3A36%3A08Z%22%2C%20%22type%22%3A%20%22FeatureCollection%22%7D%29%3B%0A%0A%20%20%20%20%20%20%20%20%0A%3C/script%3E onload=\"this.contentDocument.open();this.contentDocument.write(    decodeURIComponent(this.getAttribute('data-html')));this.contentDocument.close();\" allowfullscreen webkitallowfullscreen mozallowfullscreen></iframe></div></div>"
      ],
      "text/plain": [
       "<folium.folium.Map at 0x7fb74e414ad0>"
      ]
     },
     "execution_count": 9,
     "metadata": {},
     "output_type": "execute_result"
    }
   ],
   "source": [
    "import folium\n",
    "m = folium.Map(\n",
    "    location=[50, 0],\n",
    "    tiles=\"cartodbpositron\",\n",
    "    zoom_start=5,\n",
    ")\n",
    "\n",
    "collection_url = landingPageURL+\"/collections/\"+first_feature_collection+\"/items?f=json&limit=1000\"\n",
    "print(collection_url)\n",
    "folium.GeoJson(collection_url, name=\"geojson\").add_to(m)\n",
    "\n",
    "m"
   ]
  },
  {
   "cell_type": "code",
   "execution_count": null,
   "metadata": {},
   "outputs": [],
   "source": []
  }
 ],
 "metadata": {
  "colab": {
   "collapsed_sections": [],
   "name": "OGCAPIFeaturesWithOWSLib.ipynb",
   "provenance": []
  },
  "kernelspec": {
   "display_name": "Python 3",
   "language": "python",
   "name": "python3"
  },
  "language_info": {
   "codemirror_mode": {
    "name": "ipython",
    "version": 3
   },
   "file_extension": ".py",
   "mimetype": "text/x-python",
   "name": "python",
   "nbconvert_exporter": "python",
   "pygments_lexer": "ipython3",
   "version": "3.7.8"
  }
 },
 "nbformat": 4,
 "nbformat_minor": 4
}
